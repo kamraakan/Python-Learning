{
 "cells": [
  {
   "cell_type": "markdown",
   "metadata": {},
   "source": [
    "** FUNCTIONS**- perform a group of statements which performs a particluar task. input()- to read user's input' print()- display everything\n",
    "userDEFINED FUNCTIONS- Mathematic calculation, process data, \n",
    "Advantages- \n",
    "Reusability(no need to be rewritten)\n",
    "modularity()- no need to put entire code in one single scripts, define multiple applications, spilit the problem, \n",
    "each function can perform diff functions and can be used by other functions\n",
    "maintenance- make any chnages to existing functionalities can focus on specific functions\n"
   ]
  },
  {
   "cell_type": "markdown",
   "metadata": {},
   "source": [
    "**Average of two numbers**"
   ]
  },
  {
   "cell_type": "code",
   "execution_count": 4,
   "metadata": {},
   "outputs": [
    {
     "name": "stdout",
     "output_type": "stream",
     "text": [
      "average of two numbers is 15.0\n"
     ]
    }
   ],
   "source": [
    "def average(a,b):\n",
    "    print(\"average of two numbers is\", (a+b)/2)\n",
    "\n",
    "average(10,20)"
   ]
  },
  {
   "cell_type": "code",
   "execution_count": 10,
   "metadata": {},
   "outputs": [
    {
     "name": "stdout",
     "output_type": "stream",
     "text": [
      "15.0\n"
     ]
    }
   ],
   "source": [
    "def avg(a,b):\n",
    "    return (a+b)/2\n",
    "\n",
    "result= avg(10,20)\n",
    "print(result)"
   ]
  },
  {
   "cell_type": "code",
   "execution_count": 11,
   "metadata": {},
   "outputs": [
    {
     "name": "stdout",
     "output_type": "stream",
     "text": [
      "15.0\n"
     ]
    }
   ],
   "source": [
    "def avg(a,b):\n",
    "    return (a+b)/2\n",
    "\n",
    "avg(10,20)\n",
    "print(avg(10,20))"
   ]
  },
  {
   "cell_type": "markdown",
   "metadata": {},
   "source": [
    "**Calc** Multiple Functions"
   ]
  },
  {
   "cell_type": "code",
   "execution_count": 14,
   "metadata": {},
   "outputs": [
    {
     "name": "stdout",
     "output_type": "stream",
     "text": [
      "(15, 5, 50)\n",
      "15\n",
      "5\n",
      "50\n"
     ]
    }
   ],
   "source": [
    "def calc(a,b):\n",
    "    x = a+b\n",
    "    y = a-b\n",
    "    z= a*b\n",
    "    return x, y, z\n",
    "\n",
    "result = calc(10,5)\n",
    "print(result)\n",
    "for i in result: print(i)"
   ]
  },
  {
   "cell_type": "markdown",
   "metadata": {},
   "source": [
    "**Local and Global Arguments**"
   ]
  },
  {
   "cell_type": "code",
   "execution_count": 19,
   "metadata": {},
   "outputs": [
    {
     "name": "stdout",
     "output_type": "stream",
     "text": [
      "123\n",
      "234\n"
     ]
    }
   ],
   "source": [
    "x= 123\n",
    "\n",
    "def display():\n",
    "    x = 234\n",
    "    print(x)\n",
    "\n",
    "print(x)\n",
    "display()"
   ]
  },
  {
   "cell_type": "code",
   "execution_count": 20,
   "metadata": {},
   "outputs": [
    {
     "name": "stdout",
     "output_type": "stream",
     "text": [
      "123\n",
      "234\n",
      "123\n"
     ]
    }
   ],
   "source": [
    "x= 123\n",
    "\n",
    "def display():\n",
    "    x = 234\n",
    "    print(x)\n",
    "    print(globals()['x'])\n",
    "\n",
    "print(x)\n",
    "display()"
   ]
  },
  {
   "cell_type": "markdown",
   "metadata": {},
   "source": [
    "** Assign Function to a Variable ** A function cab be assigned to a varibale can be used several times"
   ]
  },
  {
   "cell_type": "code",
   "execution_count": 9,
   "metadata": {},
   "outputs": [
    {
     "name": "stdout",
     "output_type": "stream",
     "text": [
      "123\n",
      "234\n",
      "123\n",
      "None\n"
     ]
    }
   ],
   "source": [
    "x= 123\n",
    "\n",
    "def display():\n",
    "    x = 234\n",
    "    print(x)\n",
    "    print(globals()['x'])\n",
    "\n",
    "print(x)\n",
    "z= display()\n",
    "\n",
    "print(z)\n",
    "\n"
   ]
  },
  {
   "cell_type": "markdown",
   "metadata": {},
   "source": [
    "** Function inside function **"
   ]
  },
  {
   "cell_type": "code",
   "execution_count": 5,
   "metadata": {},
   "outputs": [
    {
     "name": "stdout",
     "output_type": "stream",
     "text": [
      "hello akki\n"
     ]
    }
   ],
   "source": [
    "def display(name):\n",
    "    def message():\n",
    "        return \"hello \"\n",
    "    result = message() + name\n",
    "    return result\n",
    "print (display(\"akki\"))"
   ]
  },
  {
   "cell_type": "markdown",
   "metadata": {},
   "source": [
    "** Return Function**"
   ]
  },
  {
   "cell_type": "code",
   "execution_count": 24,
   "metadata": {},
   "outputs": [
    {
     "name": "stdout",
     "output_type": "stream",
     "text": [
      "hello\n"
     ]
    }
   ],
   "source": [
    "def display():\n",
    "    def message():\n",
    "        return \"hello\"\n",
    "    return message\n",
    "\n",
    "fun = display()\n",
    "print(fun())\n"
   ]
  },
  {
   "cell_type": "markdown",
   "metadata": {},
   "source": [
    "** Pass any type**"
   ]
  },
  {
   "cell_type": "code",
   "execution_count": 30,
   "metadata": {},
   "outputs": [
    {
     "name": "stdout",
     "output_type": "stream",
     "text": [
      "1\n",
      "2\n",
      "3\n"
     ]
    }
   ],
   "source": [
    "def fun(lst):\n",
    "    for i in lst:\n",
    "        print (i)\n",
    "        \n",
    "fun([1,2,3])"
   ]
  },
  {
   "cell_type": "markdown",
   "metadata": {},
   "source": [
    "** Recursion** (repeatative function)"
   ]
  },
  {
   "cell_type": "markdown",
   "metadata": {},
   "source": [
    "def factorial(n)\n",
    "    if n == 0:\n",
    "    return 1\n",
    "    else:\n",
    "        return n * factorial(n-1)\n",
    "factorial(5)\n",
    "    "
   ]
  },
  {
   "cell_type": "markdown",
   "metadata": {},
   "source": [
    "**Factorial**"
   ]
  },
  {
   "cell_type": "code",
   "execution_count": 35,
   "metadata": {},
   "outputs": [
    {
     "name": "stdout",
     "output_type": "stream",
     "text": [
      "120\n"
     ]
    }
   ],
   "source": [
    "def factorial(n):\n",
    "    if n == 0:\n",
    "        result = 1\n",
    "    else:\n",
    "        result = n * factorial(n-1)\n",
    "    return result\n",
    "print(factorial(5))"
   ]
  },
  {
   "cell_type": "markdown",
   "metadata": {},
   "source": [
    "**Keyword Arguements**"
   ]
  },
  {
   "cell_type": "code",
   "execution_count": 40,
   "metadata": {},
   "outputs": [
    {
     "name": "stdout",
     "output_type": "stream",
     "text": [
      "20\n",
      "10\n",
      "15.0\n"
     ]
    }
   ],
   "source": [
    "def average(a,b):\n",
    "    print(a)\n",
    "    print(b)\n",
    "    return (a+b)/2\n",
    "\n",
    "print(average(b=10, a= 20))\n",
    "    "
   ]
  },
  {
   "cell_type": "markdown",
   "metadata": {},
   "source": [
    "**Default Arguements**"
   ]
  },
  {
   "cell_type": "code",
   "execution_count": 42,
   "metadata": {},
   "outputs": [
    {
     "name": "stdout",
     "output_type": "stream",
     "text": [
      "130\n",
      "20\n",
      "75.0\n"
     ]
    }
   ],
   "source": [
    "def average(a =10,b= 20):\n",
    "    print(a)\n",
    "    print(b)\n",
    "    return (a+b)/2\n",
    "\n",
    "print(average(a= 130))"
   ]
  },
  {
   "cell_type": "code",
   "execution_count": null,
   "metadata": {},
   "outputs": [],
   "source": []
  }
 ],
 "metadata": {
  "kernelspec": {
   "display_name": "Python 3",
   "language": "python",
   "name": "python3"
  },
  "language_info": {
   "codemirror_mode": {
    "name": "ipython",
    "version": 3
   },
   "file_extension": ".py",
   "mimetype": "text/x-python",
   "name": "python",
   "nbconvert_exporter": "python",
   "pygments_lexer": "ipython3",
   "version": "3.7.3"
  }
 },
 "nbformat": 4,
 "nbformat_minor": 2
}
